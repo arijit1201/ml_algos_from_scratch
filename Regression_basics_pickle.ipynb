{
  "nbformat": 4,
  "nbformat_minor": 0,
  "metadata": {
    "colab": {
      "name": "ML_01_sentdex.ipynb",
      "provenance": [],
      "collapsed_sections": [],
      "mount_file_id": "16P4PROvVi6EBKeEXw1_uXFVUqwM4Ea1p",
      "authorship_tag": "ABX9TyOd2RTMtCSi6WX+6+rpdg9R",
      "include_colab_link": true
    },
    "kernelspec": {
      "name": "python3",
      "display_name": "Python 3"
    }
  },
  "cells": [
    {
      "cell_type": "markdown",
      "metadata": {
        "id": "view-in-github",
        "colab_type": "text"
      },
      "source": [
        "<a href=\"https://colab.research.google.com/github/arijit1201/ml_algos_from_scratch/blob/master/ML_01_sentdex.ipynb\" target=\"_parent\"><img src=\"https://colab.research.google.com/assets/colab-badge.svg\" alt=\"Open In Colab\"/></a>"
      ]
    },
    {
      "cell_type": "markdown",
      "metadata": {
        "id": "WcT4GNlQzpT7",
        "colab_type": "text"
      },
      "source": [
        "[Link to the notes](https://pythonprogramming.net/features-labels-machine-learning-tutorial/)"
      ]
    },
    {
      "cell_type": "code",
      "metadata": {
        "id": "der-_k_vWFqp",
        "colab_type": "code",
        "colab": {
          "base_uri": "https://localhost:8080/",
          "height": 243
        },
        "outputId": "894e8727-ce25-46db-e664-9f2d0a94b043"
      },
      "source": [
        "!pip install quandl\n",
        "import quandl"
      ],
      "execution_count": null,
      "outputs": [
        {
          "output_type": "stream",
          "text": [
            "Requirement already satisfied: quandl in /usr/local/lib/python3.6/dist-packages (3.5.0)\n",
            "Requirement already satisfied: inflection>=0.3.1 in /usr/local/lib/python3.6/dist-packages (from quandl) (0.5.0)\n",
            "Requirement already satisfied: numpy>=1.8 in /usr/local/lib/python3.6/dist-packages (from quandl) (1.18.5)\n",
            "Requirement already satisfied: python-dateutil in /usr/local/lib/python3.6/dist-packages (from quandl) (2.8.1)\n",
            "Requirement already satisfied: more-itertools in /usr/local/lib/python3.6/dist-packages (from quandl) (8.3.0)\n",
            "Requirement already satisfied: requests>=2.7.0 in /usr/local/lib/python3.6/dist-packages (from quandl) (2.23.0)\n",
            "Requirement already satisfied: six in /usr/local/lib/python3.6/dist-packages (from quandl) (1.12.0)\n",
            "Requirement already satisfied: pandas>=0.14 in /usr/local/lib/python3.6/dist-packages (from quandl) (1.0.4)\n",
            "Requirement already satisfied: certifi>=2017.4.17 in /usr/local/lib/python3.6/dist-packages (from requests>=2.7.0->quandl) (2020.4.5.1)\n",
            "Requirement already satisfied: urllib3!=1.25.0,!=1.25.1,<1.26,>=1.21.1 in /usr/local/lib/python3.6/dist-packages (from requests>=2.7.0->quandl) (1.24.3)\n",
            "Requirement already satisfied: chardet<4,>=3.0.2 in /usr/local/lib/python3.6/dist-packages (from requests>=2.7.0->quandl) (3.0.4)\n",
            "Requirement already satisfied: idna<3,>=2.5 in /usr/local/lib/python3.6/dist-packages (from requests>=2.7.0->quandl) (2.9)\n",
            "Requirement already satisfied: pytz>=2017.2 in /usr/local/lib/python3.6/dist-packages (from pandas>=0.14->quandl) (2018.9)\n"
          ],
          "name": "stdout"
        }
      ]
    },
    {
      "cell_type": "code",
      "metadata": {
        "id": "4s9qa6opcdRv",
        "colab_type": "code",
        "colab": {}
      },
      "source": [
        "import numpy as np\n",
        "import pandas as pd\n",
        "import seaborn as sns\n",
        "import matplotlib.pyplot as plt\n",
        "%matplotlib inline\n",
        "from matplotlib import style\n",
        "style.use('ggplot')"
      ],
      "execution_count": null,
      "outputs": []
    },
    {
      "cell_type": "code",
      "metadata": {
        "id": "ZSJ-O-7lxL84",
        "colab_type": "code",
        "colab": {}
      },
      "source": [
        "import math, datetime\n",
        "from sklearn import preprocessing, svm\n",
        "from sklearn.model_selection import cross_val_score\n",
        "from sklearn.linear_model import LinearRegression\n",
        "from sklearn.model_selection import train_test_split"
      ],
      "execution_count": null,
      "outputs": []
    },
    {
      "cell_type": "code",
      "metadata": {
        "id": "tXha4H7zWMqM",
        "colab_type": "code",
        "colab": {}
      },
      "source": [
        "quandl.ApiConfig.api_key = \"VXe_rhheMwsDG5gj1xsX\""
      ],
      "execution_count": null,
      "outputs": []
    },
    {
      "cell_type": "code",
      "metadata": {
        "id": "ZQs2-1D_WzUn",
        "colab_type": "code",
        "colab": {}
      },
      "source": [
        "df = quandl.get('WIKI/GOOGL')"
      ],
      "execution_count": null,
      "outputs": []
    },
    {
      "cell_type": "code",
      "metadata": {
        "id": "cJwkqKn30pgK",
        "colab_type": "code",
        "colab": {}
      },
      "source": [
        "df = pd.read_csv('')"
      ],
      "execution_count": null,
      "outputs": []
    },
    {
      "cell_type": "code",
      "metadata": {
        "id": "gZ9KM-geZkLr",
        "colab_type": "code",
        "colab": {
          "base_uri": "https://localhost:8080/",
          "height": 237
        },
        "outputId": "85d10aba-4740-4be0-92e1-8c1546b44b34"
      },
      "source": [
        "df.head()"
      ],
      "execution_count": null,
      "outputs": [
        {
          "output_type": "execute_result",
          "data": {
            "text/html": [
              "<div>\n",
              "<style scoped>\n",
              "    .dataframe tbody tr th:only-of-type {\n",
              "        vertical-align: middle;\n",
              "    }\n",
              "\n",
              "    .dataframe tbody tr th {\n",
              "        vertical-align: top;\n",
              "    }\n",
              "\n",
              "    .dataframe thead th {\n",
              "        text-align: right;\n",
              "    }\n",
              "</style>\n",
              "<table border=\"1\" class=\"dataframe\">\n",
              "  <thead>\n",
              "    <tr style=\"text-align: right;\">\n",
              "      <th></th>\n",
              "      <th>Open</th>\n",
              "      <th>High</th>\n",
              "      <th>Low</th>\n",
              "      <th>Close</th>\n",
              "      <th>Volume</th>\n",
              "      <th>Ex-Dividend</th>\n",
              "      <th>Split Ratio</th>\n",
              "      <th>Adj. Open</th>\n",
              "      <th>Adj. High</th>\n",
              "      <th>Adj. Low</th>\n",
              "      <th>Adj. Close</th>\n",
              "      <th>Adj. Volume</th>\n",
              "    </tr>\n",
              "    <tr>\n",
              "      <th>Date</th>\n",
              "      <th></th>\n",
              "      <th></th>\n",
              "      <th></th>\n",
              "      <th></th>\n",
              "      <th></th>\n",
              "      <th></th>\n",
              "      <th></th>\n",
              "      <th></th>\n",
              "      <th></th>\n",
              "      <th></th>\n",
              "      <th></th>\n",
              "      <th></th>\n",
              "    </tr>\n",
              "  </thead>\n",
              "  <tbody>\n",
              "    <tr>\n",
              "      <th>2004-08-19</th>\n",
              "      <td>100.01</td>\n",
              "      <td>104.06</td>\n",
              "      <td>95.96</td>\n",
              "      <td>100.335</td>\n",
              "      <td>44659000.0</td>\n",
              "      <td>0.0</td>\n",
              "      <td>1.0</td>\n",
              "      <td>50.159839</td>\n",
              "      <td>52.191109</td>\n",
              "      <td>48.128568</td>\n",
              "      <td>50.322842</td>\n",
              "      <td>44659000.0</td>\n",
              "    </tr>\n",
              "    <tr>\n",
              "      <th>2004-08-20</th>\n",
              "      <td>101.01</td>\n",
              "      <td>109.08</td>\n",
              "      <td>100.50</td>\n",
              "      <td>108.310</td>\n",
              "      <td>22834300.0</td>\n",
              "      <td>0.0</td>\n",
              "      <td>1.0</td>\n",
              "      <td>50.661387</td>\n",
              "      <td>54.708881</td>\n",
              "      <td>50.405597</td>\n",
              "      <td>54.322689</td>\n",
              "      <td>22834300.0</td>\n",
              "    </tr>\n",
              "    <tr>\n",
              "      <th>2004-08-23</th>\n",
              "      <td>110.76</td>\n",
              "      <td>113.48</td>\n",
              "      <td>109.05</td>\n",
              "      <td>109.400</td>\n",
              "      <td>18256100.0</td>\n",
              "      <td>0.0</td>\n",
              "      <td>1.0</td>\n",
              "      <td>55.551482</td>\n",
              "      <td>56.915693</td>\n",
              "      <td>54.693835</td>\n",
              "      <td>54.869377</td>\n",
              "      <td>18256100.0</td>\n",
              "    </tr>\n",
              "    <tr>\n",
              "      <th>2004-08-24</th>\n",
              "      <td>111.24</td>\n",
              "      <td>111.60</td>\n",
              "      <td>103.57</td>\n",
              "      <td>104.870</td>\n",
              "      <td>15247300.0</td>\n",
              "      <td>0.0</td>\n",
              "      <td>1.0</td>\n",
              "      <td>55.792225</td>\n",
              "      <td>55.972783</td>\n",
              "      <td>51.945350</td>\n",
              "      <td>52.597363</td>\n",
              "      <td>15247300.0</td>\n",
              "    </tr>\n",
              "    <tr>\n",
              "      <th>2004-08-25</th>\n",
              "      <td>104.76</td>\n",
              "      <td>108.00</td>\n",
              "      <td>103.88</td>\n",
              "      <td>106.000</td>\n",
              "      <td>9188600.0</td>\n",
              "      <td>0.0</td>\n",
              "      <td>1.0</td>\n",
              "      <td>52.542193</td>\n",
              "      <td>54.167209</td>\n",
              "      <td>52.100830</td>\n",
              "      <td>53.164113</td>\n",
              "      <td>9188600.0</td>\n",
              "    </tr>\n",
              "  </tbody>\n",
              "</table>\n",
              "</div>"
            ],
            "text/plain": [
              "              Open    High     Low  ...   Adj. Low  Adj. Close  Adj. Volume\n",
              "Date                                ...                                    \n",
              "2004-08-19  100.01  104.06   95.96  ...  48.128568   50.322842   44659000.0\n",
              "2004-08-20  101.01  109.08  100.50  ...  50.405597   54.322689   22834300.0\n",
              "2004-08-23  110.76  113.48  109.05  ...  54.693835   54.869377   18256100.0\n",
              "2004-08-24  111.24  111.60  103.57  ...  51.945350   52.597363   15247300.0\n",
              "2004-08-25  104.76  108.00  103.88  ...  52.100830   53.164113    9188600.0\n",
              "\n",
              "[5 rows x 12 columns]"
            ]
          },
          "metadata": {
            "tags": []
          },
          "execution_count": 9
        }
      ]
    },
    {
      "cell_type": "code",
      "metadata": {
        "id": "lqTTYAs8Zma4",
        "colab_type": "code",
        "colab": {
          "base_uri": "https://localhost:8080/",
          "height": 34
        },
        "outputId": "e107630d-b78f-40a7-a532-a7b683cc673d"
      },
      "source": [
        "df.shape"
      ],
      "execution_count": null,
      "outputs": [
        {
          "output_type": "execute_result",
          "data": {
            "text/plain": [
              "(3424, 12)"
            ]
          },
          "metadata": {
            "tags": []
          },
          "execution_count": 11
        }
      ]
    },
    {
      "cell_type": "code",
      "metadata": {
        "id": "R9-2oOG6afcw",
        "colab_type": "code",
        "colab": {
          "base_uri": "https://localhost:8080/",
          "height": 347
        },
        "outputId": "bdac1ecb-12b0-4556-895f-ebfa62070b0c"
      },
      "source": [
        "df.info()"
      ],
      "execution_count": null,
      "outputs": [
        {
          "output_type": "stream",
          "text": [
            "<class 'pandas.core.frame.DataFrame'>\n",
            "DatetimeIndex: 3424 entries, 2004-08-19 to 2018-03-27\n",
            "Data columns (total 12 columns):\n",
            " #   Column       Non-Null Count  Dtype  \n",
            "---  ------       --------------  -----  \n",
            " 0   Open         3424 non-null   float64\n",
            " 1   High         3424 non-null   float64\n",
            " 2   Low          3424 non-null   float64\n",
            " 3   Close        3424 non-null   float64\n",
            " 4   Volume       3424 non-null   float64\n",
            " 5   Ex-Dividend  3424 non-null   float64\n",
            " 6   Split Ratio  3424 non-null   float64\n",
            " 7   Adj. Open    3424 non-null   float64\n",
            " 8   Adj. High    3424 non-null   float64\n",
            " 9   Adj. Low     3424 non-null   float64\n",
            " 10  Adj. Close   3424 non-null   float64\n",
            " 11  Adj. Volume  3424 non-null   float64\n",
            "dtypes: float64(12)\n",
            "memory usage: 347.8 KB\n"
          ],
          "name": "stdout"
        }
      ]
    },
    {
      "cell_type": "code",
      "metadata": {
        "id": "pbnq-4eDailb",
        "colab_type": "code",
        "colab": {
          "base_uri": "https://localhost:8080/",
          "height": 318
        },
        "outputId": "0e6aade0-05d3-48cf-ec72-be835c180d58"
      },
      "source": [
        "df.describe()"
      ],
      "execution_count": null,
      "outputs": [
        {
          "output_type": "execute_result",
          "data": {
            "text/html": [
              "<div>\n",
              "<style scoped>\n",
              "    .dataframe tbody tr th:only-of-type {\n",
              "        vertical-align: middle;\n",
              "    }\n",
              "\n",
              "    .dataframe tbody tr th {\n",
              "        vertical-align: top;\n",
              "    }\n",
              "\n",
              "    .dataframe thead th {\n",
              "        text-align: right;\n",
              "    }\n",
              "</style>\n",
              "<table border=\"1\" class=\"dataframe\">\n",
              "  <thead>\n",
              "    <tr style=\"text-align: right;\">\n",
              "      <th></th>\n",
              "      <th>Open</th>\n",
              "      <th>High</th>\n",
              "      <th>Low</th>\n",
              "      <th>Close</th>\n",
              "      <th>Volume</th>\n",
              "      <th>Ex-Dividend</th>\n",
              "      <th>Split Ratio</th>\n",
              "      <th>Adj. Open</th>\n",
              "      <th>Adj. High</th>\n",
              "      <th>Adj. Low</th>\n",
              "      <th>Adj. Close</th>\n",
              "      <th>Adj. Volume</th>\n",
              "    </tr>\n",
              "  </thead>\n",
              "  <tbody>\n",
              "    <tr>\n",
              "      <th>count</th>\n",
              "      <td>3424.000000</td>\n",
              "      <td>3424.000000</td>\n",
              "      <td>3424.000000</td>\n",
              "      <td>3424.000000</td>\n",
              "      <td>3.424000e+03</td>\n",
              "      <td>3424.000000</td>\n",
              "      <td>3424.0</td>\n",
              "      <td>3424.000000</td>\n",
              "      <td>3424.000000</td>\n",
              "      <td>3424.000000</td>\n",
              "      <td>3424.000000</td>\n",
              "      <td>3.424000e+03</td>\n",
              "    </tr>\n",
              "    <tr>\n",
              "      <th>mean</th>\n",
              "      <td>596.602610</td>\n",
              "      <td>602.045438</td>\n",
              "      <td>590.571710</td>\n",
              "      <td>596.352862</td>\n",
              "      <td>7.818568e+06</td>\n",
              "      <td>0.165880</td>\n",
              "      <td>1.0</td>\n",
              "      <td>409.221461</td>\n",
              "      <td>412.786556</td>\n",
              "      <td>405.227809</td>\n",
              "      <td>409.057885</td>\n",
              "      <td>7.818568e+06</td>\n",
              "    </tr>\n",
              "    <tr>\n",
              "      <th>std</th>\n",
              "      <td>226.989782</td>\n",
              "      <td>227.783310</td>\n",
              "      <td>225.846581</td>\n",
              "      <td>226.896692</td>\n",
              "      <td>8.248211e+06</td>\n",
              "      <td>9.706436</td>\n",
              "      <td>0.0</td>\n",
              "      <td>257.844081</td>\n",
              "      <td>259.366718</td>\n",
              "      <td>255.981628</td>\n",
              "      <td>257.773495</td>\n",
              "      <td>8.248211e+06</td>\n",
              "    </tr>\n",
              "    <tr>\n",
              "      <th>min</th>\n",
              "      <td>99.090000</td>\n",
              "      <td>101.740000</td>\n",
              "      <td>95.960000</td>\n",
              "      <td>100.010000</td>\n",
              "      <td>5.211410e+05</td>\n",
              "      <td>0.000000</td>\n",
              "      <td>1.0</td>\n",
              "      <td>49.698414</td>\n",
              "      <td>51.027517</td>\n",
              "      <td>48.128568</td>\n",
              "      <td>50.159839</td>\n",
              "      <td>5.211410e+05</td>\n",
              "    </tr>\n",
              "    <tr>\n",
              "      <th>25%</th>\n",
              "      <td>461.157500</td>\n",
              "      <td>465.392500</td>\n",
              "      <td>456.065000</td>\n",
              "      <td>461.205000</td>\n",
              "      <td>2.430647e+06</td>\n",
              "      <td>0.000000</td>\n",
              "      <td>1.0</td>\n",
              "      <td>231.292728</td>\n",
              "      <td>233.416785</td>\n",
              "      <td>228.738594</td>\n",
              "      <td>231.316552</td>\n",
              "      <td>2.430647e+06</td>\n",
              "    </tr>\n",
              "    <tr>\n",
              "      <th>50%</th>\n",
              "      <td>565.120000</td>\n",
              "      <td>569.599950</td>\n",
              "      <td>559.860000</td>\n",
              "      <td>564.940000</td>\n",
              "      <td>5.076200e+06</td>\n",
              "      <td>0.000000</td>\n",
              "      <td>1.0</td>\n",
              "      <td>300.174109</td>\n",
              "      <td>302.496277</td>\n",
              "      <td>297.909618</td>\n",
              "      <td>300.264387</td>\n",
              "      <td>5.076200e+06</td>\n",
              "    </tr>\n",
              "    <tr>\n",
              "      <th>75%</th>\n",
              "      <td>735.627500</td>\n",
              "      <td>740.850000</td>\n",
              "      <td>728.680025</td>\n",
              "      <td>733.262500</td>\n",
              "      <td>1.020910e+07</td>\n",
              "      <td>0.000000</td>\n",
              "      <td>1.0</td>\n",
              "      <td>561.178118</td>\n",
              "      <td>565.000000</td>\n",
              "      <td>556.673036</td>\n",
              "      <td>561.200000</td>\n",
              "      <td>1.020910e+07</td>\n",
              "    </tr>\n",
              "    <tr>\n",
              "      <th>max</th>\n",
              "      <td>1226.800000</td>\n",
              "      <td>1228.880000</td>\n",
              "      <td>1218.600000</td>\n",
              "      <td>1220.170000</td>\n",
              "      <td>8.215110e+07</td>\n",
              "      <td>567.971668</td>\n",
              "      <td>1.0</td>\n",
              "      <td>1188.000000</td>\n",
              "      <td>1198.000000</td>\n",
              "      <td>1184.060000</td>\n",
              "      <td>1187.560000</td>\n",
              "      <td>8.215110e+07</td>\n",
              "    </tr>\n",
              "  </tbody>\n",
              "</table>\n",
              "</div>"
            ],
            "text/plain": [
              "              Open         High  ...   Adj. Close   Adj. Volume\n",
              "count  3424.000000  3424.000000  ...  3424.000000  3.424000e+03\n",
              "mean    596.602610   602.045438  ...   409.057885  7.818568e+06\n",
              "std     226.989782   227.783310  ...   257.773495  8.248211e+06\n",
              "min      99.090000   101.740000  ...    50.159839  5.211410e+05\n",
              "25%     461.157500   465.392500  ...   231.316552  2.430647e+06\n",
              "50%     565.120000   569.599950  ...   300.264387  5.076200e+06\n",
              "75%     735.627500   740.850000  ...   561.200000  1.020910e+07\n",
              "max    1226.800000  1228.880000  ...  1187.560000  8.215110e+07\n",
              "\n",
              "[8 rows x 12 columns]"
            ]
          },
          "metadata": {
            "tags": []
          },
          "execution_count": 13
        }
      ]
    },
    {
      "cell_type": "code",
      "metadata": {
        "id": "Af5bceYTamiZ",
        "colab_type": "code",
        "colab": {}
      },
      "source": [
        "df.to_csv (r'/content/drive/My Drive/python data/quandl1.csv', index = False, header=True)"
      ],
      "execution_count": null,
      "outputs": []
    },
    {
      "cell_type": "code",
      "metadata": {
        "id": "olKi6j3g02O_",
        "colab_type": "code",
        "colab": {}
      },
      "source": [
        "df = pd.read_csv('/content/drive/My Drive/python data/quandl1.csv', parse_dates=True)"
      ],
      "execution_count": null,
      "outputs": []
    },
    {
      "cell_type": "code",
      "metadata": {
        "id": "XRthtTk4bjc6",
        "colab_type": "code",
        "colab": {}
      },
      "source": [
        "df = df[['Adj. Open', 'Adj. High', 'Adj. Low', 'Adj. Close', 'Adj. Volume',]]"
      ],
      "execution_count": null,
      "outputs": []
    },
    {
      "cell_type": "code",
      "metadata": {
        "id": "MzAsBzoEcMBv",
        "colab_type": "code",
        "colab": {
          "base_uri": "https://localhost:8080/",
          "height": 206
        },
        "outputId": "2bc18dca-39e6-4fd8-cbf3-4b3d2cd9a4ee"
      },
      "source": [
        "df.head()"
      ],
      "execution_count": null,
      "outputs": [
        {
          "output_type": "execute_result",
          "data": {
            "text/html": [
              "<div>\n",
              "<style scoped>\n",
              "    .dataframe tbody tr th:only-of-type {\n",
              "        vertical-align: middle;\n",
              "    }\n",
              "\n",
              "    .dataframe tbody tr th {\n",
              "        vertical-align: top;\n",
              "    }\n",
              "\n",
              "    .dataframe thead th {\n",
              "        text-align: right;\n",
              "    }\n",
              "</style>\n",
              "<table border=\"1\" class=\"dataframe\">\n",
              "  <thead>\n",
              "    <tr style=\"text-align: right;\">\n",
              "      <th></th>\n",
              "      <th>Adj. Open</th>\n",
              "      <th>Adj. High</th>\n",
              "      <th>Adj. Low</th>\n",
              "      <th>Adj. Close</th>\n",
              "      <th>Adj. Volume</th>\n",
              "    </tr>\n",
              "  </thead>\n",
              "  <tbody>\n",
              "    <tr>\n",
              "      <th>0</th>\n",
              "      <td>50.159839</td>\n",
              "      <td>52.191109</td>\n",
              "      <td>48.128568</td>\n",
              "      <td>50.322842</td>\n",
              "      <td>44659000.0</td>\n",
              "    </tr>\n",
              "    <tr>\n",
              "      <th>1</th>\n",
              "      <td>50.661387</td>\n",
              "      <td>54.708881</td>\n",
              "      <td>50.405597</td>\n",
              "      <td>54.322689</td>\n",
              "      <td>22834300.0</td>\n",
              "    </tr>\n",
              "    <tr>\n",
              "      <th>2</th>\n",
              "      <td>55.551482</td>\n",
              "      <td>56.915693</td>\n",
              "      <td>54.693835</td>\n",
              "      <td>54.869377</td>\n",
              "      <td>18256100.0</td>\n",
              "    </tr>\n",
              "    <tr>\n",
              "      <th>3</th>\n",
              "      <td>55.792225</td>\n",
              "      <td>55.972783</td>\n",
              "      <td>51.945350</td>\n",
              "      <td>52.597363</td>\n",
              "      <td>15247300.0</td>\n",
              "    </tr>\n",
              "    <tr>\n",
              "      <th>4</th>\n",
              "      <td>52.542193</td>\n",
              "      <td>54.167209</td>\n",
              "      <td>52.100830</td>\n",
              "      <td>53.164113</td>\n",
              "      <td>9188600.0</td>\n",
              "    </tr>\n",
              "  </tbody>\n",
              "</table>\n",
              "</div>"
            ],
            "text/plain": [
              "   Adj. Open  Adj. High   Adj. Low  Adj. Close  Adj. Volume\n",
              "0  50.159839  52.191109  48.128568   50.322842   44659000.0\n",
              "1  50.661387  54.708881  50.405597   54.322689   22834300.0\n",
              "2  55.551482  56.915693  54.693835   54.869377   18256100.0\n",
              "3  55.792225  55.972783  51.945350   52.597363   15247300.0\n",
              "4  52.542193  54.167209  52.100830   53.164113    9188600.0"
            ]
          },
          "metadata": {
            "tags": []
          },
          "execution_count": 93
        }
      ]
    },
    {
      "cell_type": "code",
      "metadata": {
        "id": "3WiN9c09cOLJ",
        "colab_type": "code",
        "colab": {
          "base_uri": "https://localhost:8080/",
          "height": 336
        },
        "outputId": "75eb3618-70be-4845-8748-6f30491fbe1c"
      },
      "source": [
        "sns.heatmap(df.corr(), annot = True, vmin=-1, vmax=1, center= 0, cmap= 'coolwarm')\n"
      ],
      "execution_count": null,
      "outputs": [
        {
          "output_type": "execute_result",
          "data": {
            "text/plain": [
              "<matplotlib.axes._subplots.AxesSubplot at 0x7f8324f0aba8>"
            ]
          },
          "metadata": {
            "tags": []
          },
          "execution_count": 94
        },
        {
          "output_type": "display_data",
          "data": {
            "image/png": "[encoded data removed]",
            "text/plain": [
              "<Figure size 432x288 with 2 Axes>"
            ]
          },
          "metadata": {
            "tags": [],
            "needs_background": "light"
          }
        }
      ]
    },
    {
      "cell_type": "code",
      "metadata": {
        "id": "oRU-VatqdAko",
        "colab_type": "code",
        "colab": {}
      },
      "source": [
        "df['HL_PCT'] = (df['Adj. High'] - df['Adj. Low'])/df['Adj. Close'] * 100\n",
        "df['PCT_change'] = (df['Adj. Close'] - df['Adj. Open'])/df['Adj. Open'] * 100"
      ],
      "execution_count": null,
      "outputs": []
    },
    {
      "cell_type": "code",
      "metadata": {
        "id": "wCqhYpSeeJ7T",
        "colab_type": "code",
        "colab": {
          "base_uri": "https://localhost:8080/",
          "height": 206
        },
        "outputId": "bc6d6f7b-d5a6-488e-d778-dbe6f957b093"
      },
      "source": [
        "df.head()"
      ],
      "execution_count": null,
      "outputs": [
        {
          "output_type": "execute_result",
          "data": {
            "text/html": [
              "<div>\n",
              "<style scoped>\n",
              "    .dataframe tbody tr th:only-of-type {\n",
              "        vertical-align: middle;\n",
              "    }\n",
              "\n",
              "    .dataframe tbody tr th {\n",
              "        vertical-align: top;\n",
              "    }\n",
              "\n",
              "    .dataframe thead th {\n",
              "        text-align: right;\n",
              "    }\n",
              "</style>\n",
              "<table border=\"1\" class=\"dataframe\">\n",
              "  <thead>\n",
              "    <tr style=\"text-align: right;\">\n",
              "      <th></th>\n",
              "      <th>Adj. Open</th>\n",
              "      <th>Adj. High</th>\n",
              "      <th>Adj. Low</th>\n",
              "      <th>Adj. Close</th>\n",
              "      <th>Adj. Volume</th>\n",
              "      <th>HL_PCT</th>\n",
              "      <th>PCT_change</th>\n",
              "    </tr>\n",
              "  </thead>\n",
              "  <tbody>\n",
              "    <tr>\n",
              "      <th>0</th>\n",
              "      <td>50.159839</td>\n",
              "      <td>52.191109</td>\n",
              "      <td>48.128568</td>\n",
              "      <td>50.322842</td>\n",
              "      <td>44659000.0</td>\n",
              "      <td>8.072956</td>\n",
              "      <td>0.324968</td>\n",
              "    </tr>\n",
              "    <tr>\n",
              "      <th>1</th>\n",
              "      <td>50.661387</td>\n",
              "      <td>54.708881</td>\n",
              "      <td>50.405597</td>\n",
              "      <td>54.322689</td>\n",
              "      <td>22834300.0</td>\n",
              "      <td>7.921706</td>\n",
              "      <td>7.227007</td>\n",
              "    </tr>\n",
              "    <tr>\n",
              "      <th>2</th>\n",
              "      <td>55.551482</td>\n",
              "      <td>56.915693</td>\n",
              "      <td>54.693835</td>\n",
              "      <td>54.869377</td>\n",
              "      <td>18256100.0</td>\n",
              "      <td>4.049360</td>\n",
              "      <td>-1.227880</td>\n",
              "    </tr>\n",
              "    <tr>\n",
              "      <th>3</th>\n",
              "      <td>55.792225</td>\n",
              "      <td>55.972783</td>\n",
              "      <td>51.945350</td>\n",
              "      <td>52.597363</td>\n",
              "      <td>15247300.0</td>\n",
              "      <td>7.657099</td>\n",
              "      <td>-5.726357</td>\n",
              "    </tr>\n",
              "    <tr>\n",
              "      <th>4</th>\n",
              "      <td>52.542193</td>\n",
              "      <td>54.167209</td>\n",
              "      <td>52.100830</td>\n",
              "      <td>53.164113</td>\n",
              "      <td>9188600.0</td>\n",
              "      <td>3.886792</td>\n",
              "      <td>1.183658</td>\n",
              "    </tr>\n",
              "  </tbody>\n",
              "</table>\n",
              "</div>"
            ],
            "text/plain": [
              "   Adj. Open  Adj. High   Adj. Low  ...  Adj. Volume    HL_PCT  PCT_change\n",
              "0  50.159839  52.191109  48.128568  ...   44659000.0  8.072956    0.324968\n",
              "1  50.661387  54.708881  50.405597  ...   22834300.0  7.921706    7.227007\n",
              "2  55.551482  56.915693  54.693835  ...   18256100.0  4.049360   -1.227880\n",
              "3  55.792225  55.972783  51.945350  ...   15247300.0  7.657099   -5.726357\n",
              "4  52.542193  54.167209  52.100830  ...    9188600.0  3.886792    1.183658\n",
              "\n",
              "[5 rows x 7 columns]"
            ]
          },
          "metadata": {
            "tags": []
          },
          "execution_count": 96
        }
      ]
    },
    {
      "cell_type": "code",
      "metadata": {
        "id": "Aj9MquTbeN6x",
        "colab_type": "code",
        "colab": {
          "base_uri": "https://localhost:8080/",
          "height": 237
        },
        "outputId": "ed806151-4579-41b8-d906-8dbbafc074c3"
      },
      "source": [
        "df = df[['Adj. Close', 'HL_PCT', 'PCT_change', 'Adj. Volume',]]\n",
        "df.head()"
      ],
      "execution_count": null,
      "outputs": [
        {
          "output_type": "execute_result",
          "data": {
            "text/html": [
              "<div>\n",
              "<style scoped>\n",
              "    .dataframe tbody tr th:only-of-type {\n",
              "        vertical-align: middle;\n",
              "    }\n",
              "\n",
              "    .dataframe tbody tr th {\n",
              "        vertical-align: top;\n",
              "    }\n",
              "\n",
              "    .dataframe thead th {\n",
              "        text-align: right;\n",
              "    }\n",
              "</style>\n",
              "<table border=\"1\" class=\"dataframe\">\n",
              "  <thead>\n",
              "    <tr style=\"text-align: right;\">\n",
              "      <th></th>\n",
              "      <th>Adj. Close</th>\n",
              "      <th>HL_PCT</th>\n",
              "      <th>PCT_change</th>\n",
              "      <th>Adj. Volume</th>\n",
              "    </tr>\n",
              "    <tr>\n",
              "      <th>Date</th>\n",
              "      <th></th>\n",
              "      <th></th>\n",
              "      <th></th>\n",
              "      <th></th>\n",
              "    </tr>\n",
              "  </thead>\n",
              "  <tbody>\n",
              "    <tr>\n",
              "      <th>2004-08-19</th>\n",
              "      <td>50.322842</td>\n",
              "      <td>8.072956</td>\n",
              "      <td>0.324968</td>\n",
              "      <td>44659000.0</td>\n",
              "    </tr>\n",
              "    <tr>\n",
              "      <th>2004-08-20</th>\n",
              "      <td>54.322689</td>\n",
              "      <td>7.921706</td>\n",
              "      <td>7.227007</td>\n",
              "      <td>22834300.0</td>\n",
              "    </tr>\n",
              "    <tr>\n",
              "      <th>2004-08-23</th>\n",
              "      <td>54.869377</td>\n",
              "      <td>4.049360</td>\n",
              "      <td>-1.227880</td>\n",
              "      <td>18256100.0</td>\n",
              "    </tr>\n",
              "    <tr>\n",
              "      <th>2004-08-24</th>\n",
              "      <td>52.597363</td>\n",
              "      <td>7.657099</td>\n",
              "      <td>-5.726357</td>\n",
              "      <td>15247300.0</td>\n",
              "    </tr>\n",
              "    <tr>\n",
              "      <th>2004-08-25</th>\n",
              "      <td>53.164113</td>\n",
              "      <td>3.886792</td>\n",
              "      <td>1.183658</td>\n",
              "      <td>9188600.0</td>\n",
              "    </tr>\n",
              "  </tbody>\n",
              "</table>\n",
              "</div>"
            ],
            "text/plain": [
              "            Adj. Close    HL_PCT  PCT_change  Adj. Volume\n",
              "Date                                                     \n",
              "2004-08-19   50.322842  8.072956    0.324968   44659000.0\n",
              "2004-08-20   54.322689  7.921706    7.227007   22834300.0\n",
              "2004-08-23   54.869377  4.049360   -1.227880   18256100.0\n",
              "2004-08-24   52.597363  7.657099   -5.726357   15247300.0\n",
              "2004-08-25   53.164113  3.886792    1.183658    9188600.0"
            ]
          },
          "metadata": {
            "tags": []
          },
          "execution_count": 131
        }
      ]
    },
    {
      "cell_type": "code",
      "metadata": {
        "id": "pE_7gF9des0-",
        "colab_type": "code",
        "colab": {
          "base_uri": "https://localhost:8080/",
          "height": 287
        },
        "outputId": "a6d89be3-73fa-470b-8a35-df0d1967eded"
      },
      "source": [
        "sns.heatmap(df.corr(), annot = True, vmin=-1, vmax=1, center= 0, cmap= 'coolwarm')"
      ],
      "execution_count": null,
      "outputs": [
        {
          "output_type": "execute_result",
          "data": {
            "text/plain": [
              "<matplotlib.axes._subplots.AxesSubplot at 0x7f8324d852e8>"
            ]
          },
          "metadata": {
            "tags": []
          },
          "execution_count": 120
        },
        {
          "output_type": "display_data",
          "data": {
            "image/png": "[encoded data removed]",
            "text/plain": [
              "<Figure size 432x288 with 2 Axes>"
            ]
          },
          "metadata": {
            "tags": []
          }
        }
      ]
    },
    {
      "cell_type": "code",
      "metadata": {
        "id": "SDfkPvHne-VF",
        "colab_type": "code",
        "colab": {}
      },
      "source": [
        "forecast_col = 'Adj. Close'\n"
      ],
      "execution_count": null,
      "outputs": []
    },
    {
      "cell_type": "code",
      "metadata": {
        "id": "8EijIaRdfwTC",
        "colab_type": "code",
        "colab": {}
      },
      "source": [
        "df.fillna(-999999, inplace=True)"
      ],
      "execution_count": null,
      "outputs": []
    },
    {
      "cell_type": "code",
      "metadata": {
        "id": "DPg86FoRxGSI",
        "colab_type": "code",
        "colab": {
          "base_uri": "https://localhost:8080/",
          "height": 208
        },
        "outputId": "eb9b11d4-97b0-4c10-8922-0763ba2e5c70"
      },
      "source": [
        "df.info()"
      ],
      "execution_count": null,
      "outputs": [
        {
          "output_type": "stream",
          "text": [
            "<class 'pandas.core.frame.DataFrame'>\n",
            "RangeIndex: 3424 entries, 0 to 3423\n",
            "Data columns (total 4 columns):\n",
            " #   Column       Non-Null Count  Dtype  \n",
            "---  ------       --------------  -----  \n",
            " 0   Adj. Close   3424 non-null   float64\n",
            " 1   HL_PCT       3424 non-null   float64\n",
            " 2   PCT_change   3424 non-null   float64\n",
            " 3   Adj. Volume  3424 non-null   float64\n",
            "dtypes: float64(4)\n",
            "memory usage: 107.1 KB\n"
          ],
          "name": "stdout"
        }
      ]
    },
    {
      "cell_type": "code",
      "metadata": {
        "id": "XuFJt9p4xiJT",
        "colab_type": "code",
        "colab": {}
      },
      "source": [
        "forecast_out = int(math.ceil(0.01 * len(df)))  #we want to predict 1% of the entire data set"
      ],
      "execution_count": null,
      "outputs": []
    },
    {
      "cell_type": "code",
      "metadata": {
        "id": "PEiic1qwyken",
        "colab_type": "code",
        "colab": {}
      },
      "source": [
        "df['label'] = df[forecast_col].shift(-forecast_out)"
      ],
      "execution_count": null,
      "outputs": []
    },
    {
      "cell_type": "code",
      "metadata": {
        "id": "InA2HvuJzO5v",
        "colab_type": "code",
        "colab": {
          "base_uri": "https://localhost:8080/",
          "height": 237
        },
        "outputId": "9b7caf76-8ace-4c8a-b972-e75e87e55afe"
      },
      "source": [
        "df.head()"
      ],
      "execution_count": null,
      "outputs": [
        {
          "output_type": "execute_result",
          "data": {
            "text/html": [
              "<div>\n",
              "<style scoped>\n",
              "    .dataframe tbody tr th:only-of-type {\n",
              "        vertical-align: middle;\n",
              "    }\n",
              "\n",
              "    .dataframe tbody tr th {\n",
              "        vertical-align: top;\n",
              "    }\n",
              "\n",
              "    .dataframe thead th {\n",
              "        text-align: right;\n",
              "    }\n",
              "</style>\n",
              "<table border=\"1\" class=\"dataframe\">\n",
              "  <thead>\n",
              "    <tr style=\"text-align: right;\">\n",
              "      <th></th>\n",
              "      <th>Adj. Close</th>\n",
              "      <th>HL_PCT</th>\n",
              "      <th>PCT_change</th>\n",
              "      <th>Adj. Volume</th>\n",
              "      <th>label</th>\n",
              "    </tr>\n",
              "    <tr>\n",
              "      <th>Date</th>\n",
              "      <th></th>\n",
              "      <th></th>\n",
              "      <th></th>\n",
              "      <th></th>\n",
              "      <th></th>\n",
              "    </tr>\n",
              "  </thead>\n",
              "  <tbody>\n",
              "    <tr>\n",
              "      <th>2004-08-19</th>\n",
              "      <td>50.322842</td>\n",
              "      <td>8.072956</td>\n",
              "      <td>0.324968</td>\n",
              "      <td>44659000.0</td>\n",
              "      <td>69.078238</td>\n",
              "    </tr>\n",
              "    <tr>\n",
              "      <th>2004-08-20</th>\n",
              "      <td>54.322689</td>\n",
              "      <td>7.921706</td>\n",
              "      <td>7.227007</td>\n",
              "      <td>22834300.0</td>\n",
              "      <td>67.839414</td>\n",
              "    </tr>\n",
              "    <tr>\n",
              "      <th>2004-08-23</th>\n",
              "      <td>54.869377</td>\n",
              "      <td>4.049360</td>\n",
              "      <td>-1.227880</td>\n",
              "      <td>18256100.0</td>\n",
              "      <td>68.912727</td>\n",
              "    </tr>\n",
              "    <tr>\n",
              "      <th>2004-08-24</th>\n",
              "      <td>52.597363</td>\n",
              "      <td>7.657099</td>\n",
              "      <td>-5.726357</td>\n",
              "      <td>15247300.0</td>\n",
              "      <td>70.668146</td>\n",
              "    </tr>\n",
              "    <tr>\n",
              "      <th>2004-08-25</th>\n",
              "      <td>53.164113</td>\n",
              "      <td>3.886792</td>\n",
              "      <td>1.183658</td>\n",
              "      <td>9188600.0</td>\n",
              "      <td>71.219849</td>\n",
              "    </tr>\n",
              "  </tbody>\n",
              "</table>\n",
              "</div>"
            ],
            "text/plain": [
              "            Adj. Close    HL_PCT  PCT_change  Adj. Volume      label\n",
              "Date                                                                \n",
              "2004-08-19   50.322842  8.072956    0.324968   44659000.0  69.078238\n",
              "2004-08-20   54.322689  7.921706    7.227007   22834300.0  67.839414\n",
              "2004-08-23   54.869377  4.049360   -1.227880   18256100.0  68.912727\n",
              "2004-08-24   52.597363  7.657099   -5.726357   15247300.0  70.668146\n",
              "2004-08-25   53.164113  3.886792    1.183658    9188600.0  71.219849"
            ]
          },
          "metadata": {
            "tags": []
          },
          "execution_count": 136
        }
      ]
    },
    {
      "cell_type": "code",
      "metadata": {
        "id": "4Bh8QCJD0f8n",
        "colab_type": "code",
        "colab": {
          "base_uri": "https://localhost:8080/",
          "height": 206
        },
        "outputId": "40b04a8b-3958-426f-aa58-684778a185a7"
      },
      "source": [
        "df.tail()"
      ],
      "execution_count": null,
      "outputs": [
        {
          "output_type": "execute_result",
          "data": {
            "text/html": [
              "<div>\n",
              "<style scoped>\n",
              "    .dataframe tbody tr th:only-of-type {\n",
              "        vertical-align: middle;\n",
              "    }\n",
              "\n",
              "    .dataframe tbody tr th {\n",
              "        vertical-align: top;\n",
              "    }\n",
              "\n",
              "    .dataframe thead th {\n",
              "        text-align: right;\n",
              "    }\n",
              "</style>\n",
              "<table border=\"1\" class=\"dataframe\">\n",
              "  <thead>\n",
              "    <tr style=\"text-align: right;\">\n",
              "      <th></th>\n",
              "      <th>Adj. Close</th>\n",
              "      <th>HL_PCT</th>\n",
              "      <th>PCT_change</th>\n",
              "      <th>Adj. Volume</th>\n",
              "      <th>label</th>\n",
              "    </tr>\n",
              "  </thead>\n",
              "  <tbody>\n",
              "    <tr>\n",
              "      <th>3419</th>\n",
              "      <td>1094.00</td>\n",
              "      <td>1.964351</td>\n",
              "      <td>0.130884</td>\n",
              "      <td>1990515.0</td>\n",
              "      <td>NaN</td>\n",
              "    </tr>\n",
              "    <tr>\n",
              "      <th>3420</th>\n",
              "      <td>1053.15</td>\n",
              "      <td>3.254997</td>\n",
              "      <td>-2.487014</td>\n",
              "      <td>3418154.0</td>\n",
              "      <td>NaN</td>\n",
              "    </tr>\n",
              "    <tr>\n",
              "      <th>3421</th>\n",
              "      <td>1026.55</td>\n",
              "      <td>4.082607</td>\n",
              "      <td>-2.360729</td>\n",
              "      <td>2413517.0</td>\n",
              "      <td>NaN</td>\n",
              "    </tr>\n",
              "    <tr>\n",
              "      <th>3422</th>\n",
              "      <td>1054.09</td>\n",
              "      <td>4.619150</td>\n",
              "      <td>0.332191</td>\n",
              "      <td>3272409.0</td>\n",
              "      <td>NaN</td>\n",
              "    </tr>\n",
              "    <tr>\n",
              "      <th>3423</th>\n",
              "      <td>1006.94</td>\n",
              "      <td>6.645878</td>\n",
              "      <td>-5.353887</td>\n",
              "      <td>2940957.0</td>\n",
              "      <td>NaN</td>\n",
              "    </tr>\n",
              "  </tbody>\n",
              "</table>\n",
              "</div>"
            ],
            "text/plain": [
              "      Adj. Close    HL_PCT  PCT_change  Adj. Volume  label\n",
              "3419     1094.00  1.964351    0.130884    1990515.0    NaN\n",
              "3420     1053.15  3.254997   -2.487014    3418154.0    NaN\n",
              "3421     1026.55  4.082607   -2.360729    2413517.0    NaN\n",
              "3422     1054.09  4.619150    0.332191    3272409.0    NaN\n",
              "3423     1006.94  6.645878   -5.353887    2940957.0    NaN"
            ]
          },
          "metadata": {
            "tags": []
          },
          "execution_count": 105
        }
      ]
    },
    {
      "cell_type": "code",
      "metadata": {
        "id": "uknxci0qz2vR",
        "colab_type": "code",
        "colab": {
          "base_uri": "https://localhost:8080/",
          "height": 225
        },
        "outputId": "edfcf8da-776e-4ce6-f7a4-7b5d91d44b97"
      },
      "source": [
        "df.info()"
      ],
      "execution_count": null,
      "outputs": [
        {
          "output_type": "stream",
          "text": [
            "<class 'pandas.core.frame.DataFrame'>\n",
            "RangeIndex: 3424 entries, 0 to 3423\n",
            "Data columns (total 5 columns):\n",
            " #   Column       Non-Null Count  Dtype  \n",
            "---  ------       --------------  -----  \n",
            " 0   Adj. Close   3424 non-null   float64\n",
            " 1   HL_PCT       3424 non-null   float64\n",
            " 2   PCT_change   3424 non-null   float64\n",
            " 3   Adj. Volume  3424 non-null   float64\n",
            " 4   label        3389 non-null   float64\n",
            "dtypes: float64(5)\n",
            "memory usage: 133.9 KB\n"
          ],
          "name": "stdout"
        }
      ]
    },
    {
      "cell_type": "code",
      "metadata": {
        "id": "VyIOiSev0Lj5",
        "colab_type": "code",
        "colab": {
          "base_uri": "https://localhost:8080/",
          "height": 225
        },
        "outputId": "a0f6d887-4aa3-4bff-f21e-03ddcba62c6d"
      },
      "source": [
        "#df.dropna(inplace=True)\n",
        "df.info()"
      ],
      "execution_count": null,
      "outputs": [
        {
          "output_type": "stream",
          "text": [
            "<class 'pandas.core.frame.DataFrame'>\n",
            "Int64Index: 3389 entries, 0 to 3388\n",
            "Data columns (total 5 columns):\n",
            " #   Column       Non-Null Count  Dtype  \n",
            "---  ------       --------------  -----  \n",
            " 0   Adj. Close   3389 non-null   float64\n",
            " 1   HL_PCT       3389 non-null   float64\n",
            " 2   PCT_change   3389 non-null   float64\n",
            " 3   Adj. Volume  3389 non-null   float64\n",
            " 4   label        3389 non-null   float64\n",
            "dtypes: float64(5)\n",
            "memory usage: 158.9 KB\n"
          ],
          "name": "stdout"
        }
      ]
    },
    {
      "cell_type": "code",
      "metadata": {
        "id": "Iz-2MLjh1Vf8",
        "colab_type": "code",
        "colab": {
          "base_uri": "https://localhost:8080/",
          "height": 121
        },
        "outputId": "71d870dd-0981-4d22-f3a9-ef706163e0a5"
      },
      "source": [
        "df.isnull().sum()"
      ],
      "execution_count": null,
      "outputs": [
        {
          "output_type": "execute_result",
          "data": {
            "text/plain": [
              "Adj. Close     0\n",
              "HL_PCT         0\n",
              "PCT_change     0\n",
              "Adj. Volume    0\n",
              "label          0\n",
              "dtype: int64"
            ]
          },
          "metadata": {
            "tags": []
          },
          "execution_count": 109
        }
      ]
    },
    {
      "cell_type": "code",
      "metadata": {
        "id": "K7g3rZGQ1aF9",
        "colab_type": "code",
        "colab": {}
      },
      "source": [
        "#X = np.array(df.drop(['label'], axis=1))\n",
        "#y = np.array(df['label'])"
      ],
      "execution_count": null,
      "outputs": []
    },
    {
      "cell_type": "code",
      "metadata": {
        "id": "mg-SgsrP22w2",
        "colab_type": "code",
        "colab": {
          "base_uri": "https://localhost:8080/",
          "height": 243
        },
        "outputId": "c7e95ce2-19ff-474e-db5a-935663f9c4e3"
      },
      "source": [
        ""
      ],
      "execution_count": null,
      "outputs": [
        {
          "output_type": "execute_result",
          "data": {
            "text/plain": [
              "array([[ 5.03228418e+01,  8.07295560e+00,  3.24967503e-01,\n",
              "         4.46590000e+07],\n",
              "       [ 5.43226889e+01,  7.92170621e+00,  7.22700723e+00,\n",
              "         2.28343000e+07],\n",
              "       [ 5.48693765e+01,  4.04936015e+00, -1.22788010e+00,\n",
              "         1.82561000e+07],\n",
              "       ...,\n",
              "       [ 1.18159000e+03,  1.53098791e+00,  4.76194525e-01,\n",
              "         2.77496700e+06],\n",
              "       [ 1.11920000e+03,  1.79860615e+00, -7.29098295e-01,\n",
              "         5.79888000e+06],\n",
              "       [ 1.06876000e+03,  5.45024140e+00, -2.89384977e+00,\n",
              "         3.74246900e+06]])"
            ]
          },
          "metadata": {
            "tags": []
          },
          "execution_count": 63
        }
      ]
    },
    {
      "cell_type": "code",
      "metadata": {
        "id": "Q6QDJIzp28Z1",
        "colab_type": "code",
        "colab": {}
      },
      "source": [
        "#X = preprocessing.scale(X)\n",
        "#y = np.array(df['label'])"
      ],
      "execution_count": null,
      "outputs": []
    },
    {
      "cell_type": "code",
      "metadata": {
        "id": "ml0qh27q34fX",
        "colab_type": "code",
        "colab": {}
      },
      "source": [
        "#X_train, X_test, y_train, y_test = train_test_split(X, y, test_size=0.2)"
      ],
      "execution_count": null,
      "outputs": []
    },
    {
      "cell_type": "markdown",
      "metadata": {
        "id": "wIJyDUX84ktU",
        "colab_type": "text"
      },
      "source": [
        "Classifier "
      ]
    },
    {
      "cell_type": "code",
      "metadata": {
        "id": "Ki_L6StL5rbc",
        "colab_type": "code",
        "colab": {
          "base_uri": "https://localhost:8080/",
          "height": 34
        },
        "outputId": "b9096f9a-46d9-4ee6-874e-28659e4a4116"
      },
      "source": [
        "print(forecast_out)"
      ],
      "execution_count": null,
      "outputs": [
        {
          "output_type": "stream",
          "text": [
            "35\n"
          ],
          "name": "stdout"
        }
      ]
    },
    {
      "cell_type": "code",
      "metadata": {
        "id": "LgEUnILo4d7t",
        "colab_type": "code",
        "colab": {
          "base_uri": "https://localhost:8080/",
          "height": 34
        },
        "outputId": "d9670e5e-4b62-4ff1-91dc-0a8e5f1d7712"
      },
      "source": [
        "clf = LinearRegression()\n",
        "clf.fit(X_train, y_train)\n",
        "accuracy = clf.score(X_test, y_test)\n",
        "print(accuracy)"
      ],
      "execution_count": null,
      "outputs": [
        {
          "output_type": "stream",
          "text": [
            "0.9770522700575782\n"
          ],
          "name": "stdout"
        }
      ]
    },
    {
      "cell_type": "code",
      "metadata": {
        "id": "HsTNkPM65NIA",
        "colab_type": "code",
        "colab": {
          "base_uri": "https://localhost:8080/",
          "height": 34
        },
        "outputId": "615282cf-a562-4b42-ef77-1255a50c970f"
      },
      "source": [
        "clf2 = svm.SVR()\n",
        "clf2.fit(X_train, y_train)\n",
        "accuracy = clf2.score(X_test, y_test)\n",
        "print(accuracy)"
      ],
      "execution_count": null,
      "outputs": [
        {
          "output_type": "stream",
          "text": [
            "0.7843198964907309\n"
          ],
          "name": "stdout"
        }
      ]
    },
    {
      "cell_type": "code",
      "metadata": {
        "id": "I4SSUWsf5cx5",
        "colab_type": "code",
        "colab": {}
      },
      "source": [
        "from sklearn.linear_model import Ridge"
      ],
      "execution_count": null,
      "outputs": []
    },
    {
      "cell_type": "code",
      "metadata": {
        "id": "sTssIzyS6ysR",
        "colab_type": "code",
        "colab": {
          "base_uri": "https://localhost:8080/",
          "height": 34
        },
        "outputId": "301fae54-8954-4d0f-c03f-f9c1f6b6b5c2"
      },
      "source": [
        "reg = Ridge(alpha=0.5)\n",
        "reg.fit(X_train, y_train)\n",
        "accuracy = reg.score(X_test, y_test)\n",
        "print(accuracy)"
      ],
      "execution_count": null,
      "outputs": [
        {
          "output_type": "stream",
          "text": [
            "0.9770520120512379\n"
          ],
          "name": "stdout"
        }
      ]
    },
    {
      "cell_type": "markdown",
      "metadata": {
        "id": "S9DdyURVED1M",
        "colab_type": "text"
      },
      "source": [
        "forecasting properly the prices for the last 1% days for which we have NaN values in the label"
      ]
    },
    {
      "cell_type": "code",
      "metadata": {
        "id": "ghlbenim7Q_B",
        "colab_type": "code",
        "colab": {}
      },
      "source": [
        "X = np.array(df.drop(['label'], 1))\n",
        "X = preprocessing.scale(X)\n",
        "X = X[:-forecast_out]\n",
        "df.dropna(inplace=True)\n",
        "y = np.array(df['label'])\n",
        "X_train, X_test, y_train, y_test = train_test_split(X, y, test_size=0.2)"
      ],
      "execution_count": null,
      "outputs": []
    },
    {
      "cell_type": "code",
      "metadata": {
        "id": "CXAf_JZM-ciU",
        "colab_type": "code",
        "colab": {
          "base_uri": "https://localhost:8080/",
          "height": 52
        },
        "outputId": "278a0e11-cc5a-4fd2-ba80-a57d7dcaf333"
      },
      "source": [
        "test = np.random.randint(low=0, high=1001, size=(20))\n",
        "test"
      ],
      "execution_count": null,
      "outputs": [
        {
          "output_type": "execute_result",
          "data": {
            "text/plain": [
              "array([121, 438, 867, 453,  84, 717, 300, 922, 778, 130, 794, 305,  99,\n",
              "       793, 121, 884, 297, 281, 912,   2])"
            ]
          },
          "metadata": {
            "tags": []
          },
          "execution_count": 78
        }
      ]
    },
    {
      "cell_type": "code",
      "metadata": {
        "id": "aS1PNlgS-91K",
        "colab_type": "code",
        "colab": {
          "base_uri": "https://localhost:8080/",
          "height": 34
        },
        "outputId": "3e0acfc7-7eac-40d3-cce5-d25cca5e95b1"
      },
      "source": [
        "test[-10:]"
      ],
      "execution_count": null,
      "outputs": [
        {
          "output_type": "execute_result",
          "data": {
            "text/plain": [
              "array([794, 305,  99, 793, 121, 884, 297, 281, 912,   2])"
            ]
          },
          "metadata": {
            "tags": []
          },
          "execution_count": 79
        }
      ]
    },
    {
      "cell_type": "code",
      "metadata": {
        "id": "W22AXgH__MZ7",
        "colab_type": "code",
        "colab": {
          "base_uri": "https://localhost:8080/",
          "height": 34
        },
        "outputId": "77be29ef-cb08-41c5-aee0-5e4a58709b06"
      },
      "source": [
        "test[:-10]"
      ],
      "execution_count": null,
      "outputs": [
        {
          "output_type": "execute_result",
          "data": {
            "text/plain": [
              "array([121, 438, 867, 453,  84, 717, 300, 922, 778, 130])"
            ]
          },
          "metadata": {
            "tags": []
          },
          "execution_count": 80
        }
      ]
    },
    {
      "cell_type": "code",
      "metadata": {
        "id": "TtrlOPIG_SLZ",
        "colab_type": "code",
        "colab": {
          "base_uri": "https://localhost:8080/",
          "height": 139
        },
        "outputId": "cc54aefd-afcd-486a-8ee0-ab460e9d314e"
      },
      "source": [
        "clf = LinearRegression()\n",
        "clf.fit(X_train, y_train)\n",
        "accuracy = clf.score(X_test, y_test)\n",
        "forecast_set = clf.predict(X_lately)\n",
        "print(forecast_set, accuracy, forecast_out)"
      ],
      "execution_count": null,
      "outputs": [
        {
          "output_type": "stream",
          "text": [
            "[1041.2689824  1042.64869768 1051.60512267 1042.08370058 1044.04936574\n",
            " 1048.12373189 1052.97564799 1040.73970868 1035.03580417 1028.84181324\n",
            " 1037.18436136 1048.89788424 1048.64804196 1044.64570379 1033.15931162\n",
            " 1037.96784557 1061.08000595 1068.67191825 1078.54047767 1070.28751554\n",
            " 1076.91481182 1070.9103612  1090.6245492  1100.2434342  1099.42120296\n",
            " 1093.09771603 1113.09945068 1114.12005799 1117.00145948 1118.3543488\n",
            " 1120.63436539 1122.05529429 1109.72690496 1113.95443981 1089.0752862 ] 0.9802402948610965 35\n"
          ],
          "name": "stdout"
        }
      ]
    },
    {
      "cell_type": "code",
      "metadata": {
        "id": "QlyVhNbDFCOH",
        "colab_type": "code",
        "colab": {}
      },
      "source": [
        "df['Forecast'] = np.nan\n",
        "last_date = df.iloc[-1].name\n",
        "last_unix = last_date.timestamp()\n",
        "one_day = 86400\n",
        "next_unix = last_unix + one_day"
      ],
      "execution_count": null,
      "outputs": []
    },
    {
      "cell_type": "code",
      "metadata": {
        "id": "_Rv0Oer2F-wq",
        "colab_type": "code",
        "colab": {}
      },
      "source": [
        "for i in forecast_set:\n",
        "    next_date = datetime.datetime.fromtimestamp(next_unix)\n",
        "    next_unix += 86400\n",
        "    df.loc[next_date] = [np.nan for _ in range(len(df.columns)-1)]+[i]"
      ],
      "execution_count": null,
      "outputs": []
    },
    {
      "cell_type": "code",
      "metadata": {
        "id": "0Nftk4Y-IbLC",
        "colab_type": "code",
        "colab": {
          "base_uri": "https://localhost:8080/",
          "height": 272
        },
        "outputId": "13ad4cf5-dad7-436f-af15-d1d72f36190e"
      },
      "source": [
        "df['Adj. Close'].plot()\n",
        "df['Forecast'].plot()\n",
        "plt.legend(loc=4)\n",
        "plt.xlabel('Date')\n",
        "plt.ylabel('Price')\n",
        "plt.show()"
      ],
      "execution_count": null,
      "outputs": [
        {
          "output_type": "display_data",
          "data": {
            "image/png": "[encoded data removed]",
            "text/plain": [
              "<Figure size 432x288 with 1 Axes>"
            ]
          },
          "metadata": {
            "tags": []
          }
        }
      ]
    },
    {
      "cell_type": "code",
      "metadata": {
        "id": "vMn9JsYNIf2P",
        "colab_type": "code",
        "colab": {}
      },
      "source": [
        "import pickle"
      ],
      "execution_count": 142,
      "outputs": []
    },
    {
      "cell_type": "code",
      "metadata": {
        "id": "4ABF1akWK09j",
        "colab_type": "code",
        "colab": {
          "base_uri": "https://localhost:8080/",
          "height": 34
        },
        "outputId": "683de725-2508-4c6b-8cb8-041d978f655d"
      },
      "source": [
        "clf = LinearRegression()\n",
        "clf.fit(X_train, y_train)\n"
      ],
      "execution_count": 143,
      "outputs": [
        {
          "output_type": "execute_result",
          "data": {
            "text/plain": [
              "LinearRegression(copy_X=True, fit_intercept=True, n_jobs=None, normalize=False)"
            ]
          },
          "metadata": {
            "tags": []
          },
          "execution_count": 143
        }
      ]
    },
    {
      "cell_type": "code",
      "metadata": {
        "id": "38Vs6vaPLuja",
        "colab_type": "code",
        "colab": {}
      },
      "source": [
        "with open('/content/drive/My Drive/python data/pickle_classifiers/linearregression.pickle','wb') as f:\n",
        "  pickle.dump(clf, f)"
      ],
      "execution_count": 144,
      "outputs": []
    },
    {
      "cell_type": "code",
      "metadata": {
        "id": "s7E8Zm78L365",
        "colab_type": "code",
        "colab": {}
      },
      "source": [
        "pickle_in = open('/content/drive/My Drive/python data/pickle_classifiers/linearregression.pickle','rb')\n",
        "clf = pickle.load(pickle_in)"
      ],
      "execution_count": 146,
      "outputs": []
    },
    {
      "cell_type": "code",
      "metadata": {
        "id": "KMyw53AVMAPJ",
        "colab_type": "code",
        "colab": {
          "base_uri": "https://localhost:8080/",
          "height": 289
        },
        "outputId": "cae8baa7-2715-42dd-b553-ca78fba1a641"
      },
      "source": [
        "confidence = clf.score(X_test, y_test)\n",
        "print(confidence)\n",
        "forecast_set = clf.predict(X_lately)\n",
        "df['Forecast'] = np.nan\n",
        "\n",
        "last_date = df.iloc[-1].name\n",
        "last_unix = last_date.timestamp()\n",
        "one_day = 86400\n",
        "next_unix = last_unix + one_day\n",
        "\n",
        "for i in forecast_set:\n",
        "    next_date = datetime.datetime.fromtimestamp(next_unix)\n",
        "    next_unix += 86400\n",
        "    df.loc[next_date] = [np.nan for _ in range(len(df.columns)-1)]+[i]\n",
        "df['Adj. Close'].plot()\n",
        "df['Forecast'].plot()\n",
        "plt.legend(loc=4)\n",
        "plt.xlabel('Date')\n",
        "plt.ylabel('Price')\n",
        "plt.show()"
      ],
      "execution_count": 147,
      "outputs": [
        {
          "output_type": "stream",
          "text": [
            "0.9802402948610965\n"
          ],
          "name": "stdout"
        },
        {
          "output_type": "display_data",
          "data": {
            "image/png": "[encoded data removed]",
            "text/plain": [
              "<Figure size 432x288 with 1 Axes>"
            ]
          },
          "metadata": {
            "tags": []
          }
        }
      ]
    },
    {
      "cell_type": "code",
      "metadata": {
        "id": "cYhwj1BRMaUI",
        "colab_type": "code",
        "colab": {}
      },
      "source": [
        ""
      ],
      "execution_count": null,
      "outputs": []
    }
  ]
}
